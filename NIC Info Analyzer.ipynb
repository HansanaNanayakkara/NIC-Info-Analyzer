{
 "cells": [
  {
   "cell_type": "code",
   "execution_count": null,
   "id": "01e34c04-d1d8-4fa4-8c94-8d182de67ead",
   "metadata": {},
   "outputs": [],
   "source": [
    "import tkinter as tk\n",
    "from tkinter import messagebox\n",
    "from datetime import datetime, timedelta\n",
    "\n",
    "def extract_info():\n",
    "    nic = entry.get().strip()\n",
    "\n",
    "    if len(nic) == 10 and nic[-1].lower() == 'v':\n",
    "        try:\n",
    "            year = int(\"19\" + nic[:2])  # For 10-digit NICs, assuming year is in 1900s\n",
    "            days = int(nic[2:5])\n",
    "        except ValueError:\n",
    "            messagebox.showerror(\"Invalid NIC\", \"NIC format is incorrect.\")\n",
    "            return\n",
    "    elif len(nic) == 12:\n",
    "        try:\n",
    "            year = int(nic[:4])  # For 12-digit NICs, assuming the year is in full format\n",
    "            days = int(nic[4:7])\n",
    "        except ValueError:\n",
    "            messagebox.showerror(\"Invalid NIC\", \"NIC format is incorrect.\")\n",
    "            return\n",
    "    else:\n",
    "        messagebox.showerror(\"Invalid NIC\", \"NIC must be 10 or 12 digits long.\")\n",
    "        return\n",
    "\n",
    "    # Determine gender based on the day value (this assumes days > 500 means female)\n",
    "    gender = \"Female\" if days > 500 else \"Male\"\n",
    "    if days > 500:\n",
    "        days -= 500  # Subtract 500 for females, keeping the day count consistent for both genders\n",
    "\n",
    "    # Check if the day is valid in the given year (e.g., leap year handling)\n",
    "    try:\n",
    "        # Create a date with the first day of the year and add days\n",
    "        birthdate = datetime(year, 1, 1) + timedelta(days=days - 1)\n",
    "        result_label.config(text=f\"Birthdate: {birthdate.strftime('%Y-%m-%d')}\\nGender: {gender}\")\n",
    "    except ValueError:\n",
    "        messagebox.showerror(\"Invalid NIC\", \"Day value is out of range for the given year.\")\n",
    "\n",
    "# Create GUI\n",
    "root = tk.Tk()\n",
    "root.title(\"NIC Info Analyzer\")\n",
    "root.geometry(\"300x200\")\n",
    "\n",
    "tk.Label(root, text=\"Enter NIC Number:\").pack(pady=5)\n",
    "entry = tk.Entry(root)\n",
    "entry.pack(pady=5)\n",
    "\n",
    "tk.Button(root, text=\"Extract Info\", command=extract_info).pack(pady=5)\n",
    "\n",
    "result_label = tk.Label(root, text=\"\", font=(\"Arial\", 12))\n",
    "result_label.pack(pady=10)\n",
    "\n",
    "root.mainloop()"
   ]
  },
  {
   "cell_type": "code",
   "execution_count": null,
   "id": "6ae23e97-baf2-4d51-82c2-8e847a6e19ec",
   "metadata": {},
   "outputs": [],
   "source": []
  }
 ],
 "metadata": {
  "kernelspec": {
   "display_name": "Python 3 (ipykernel)",
   "language": "python",
   "name": "python3"
  },
  "language_info": {
   "codemirror_mode": {
    "name": "ipython",
    "version": 3
   },
   "file_extension": ".py",
   "mimetype": "text/x-python",
   "name": "python",
   "nbconvert_exporter": "python",
   "pygments_lexer": "ipython3",
   "version": "3.13.2"
  }
 },
 "nbformat": 4,
 "nbformat_minor": 5
}
